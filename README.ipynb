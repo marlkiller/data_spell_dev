{
 "cells": [
  {
   "cell_type": "code",
   "execution_count": 1,
   "metadata": {
    "collapsed": true
   },
   "outputs": [
    {
     "name": "stdout",
     "output_type": "stream",
     "text": [
      "<class 'pandas.core.frame.DataFrame'>\n",
      "RangeIndex: 302 entries, 0 to 301\n",
      "Data columns (total 8 columns):\n",
      " #   Column        Non-Null Count  Dtype \n",
      "---  ------        --------------  ----- \n",
      " 0   account_id    302 non-null    object\n",
      " 1   Status        302 non-null    object\n",
      " 2   fpc_status    302 non-null    object\n",
      " 3   ou_name       302 non-null    object\n",
      " 4   ou_id         302 non-null    object\n",
      " 5   account_area  292 non-null    object\n",
      " 6   account_type  226 non-null    object\n",
      " 7   orbit         287 non-null    object\n",
      "dtypes: object(8)\n",
      "memory usage: 19.0+ KB\n"
     ]
    }
   ],
   "source": [
    "import matplotlib.pyplot as plt\n",
    "import pandas as pd\n",
    "\n",
    "result = pd.read_csv(\"account_clean.csv\")\n",
    "result.info()        # 数据类型，内存消耗等信息\n"
   ]
  }
 ],
 "metadata": {
  "kernelspec": {
   "display_name": "Python 3",
   "language": "python",
   "name": "python3"
  },
  "language_info": {
   "codemirror_mode": {
    "name": "ipython",
    "version": 2
   },
   "file_extension": ".py",
   "mimetype": "text/x-python",
   "name": "python",
   "nbconvert_exporter": "python",
   "pygments_lexer": "ipython2",
   "version": "2.7.6"
  }
 },
 "nbformat": 4,
 "nbformat_minor": 0
}
