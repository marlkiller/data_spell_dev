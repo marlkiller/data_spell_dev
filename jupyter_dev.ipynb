{
 "cells": [
  {
   "cell_type": "code",
   "execution_count": 19,
   "metadata": {},
   "outputs": [
    {
     "name": "stdout",
     "output_type": "stream",
     "text": [
      "<class 'pandas.core.frame.DataFrame'>\n",
      "RangeIndex: 302 entries, 0 to 301\n",
      "Data columns (total 8 columns):\n",
      " #   Column        Non-Null Count  Dtype \n",
      "---  ------        --------------  ----- \n",
      " 0   account_id    302 non-null    object\n",
      " 1   Status        302 non-null    object\n",
      " 2   fpc_status    302 non-null    object\n",
      " 3   ou_name       302 non-null    object\n",
      " 4   ou_id         302 non-null    object\n",
      " 5   account_area  292 non-null    object\n",
      " 6   account_type  226 non-null    object\n",
      " 7   orbit         287 non-null    object\n",
      "dtypes: object(8)\n",
      "memory usage: 19.0+ KB\n"
     ]
    }
   ],
   "source": [
    "import matplotlib.pyplot as plt\n",
    "import pandas as pd\n",
    "\n",
    "result = pd.read_csv(\"account_clean.csv\")\n",
    "result.info()        # 数据类型，内存消耗等信息\n",
    "\n"
   ]
  },
  {
   "cell_type": "code",
   "execution_count": 20,
   "metadata": {},
   "outputs": [
    {
     "data": {
      "text/plain": "            account_id  Status fpc_status ou_name             ou_id  \\\ncount              302     302        302     302               302   \nunique             302       2          3      10                10   \ntop     '172688832633'  ACTIVE    enabled    Halt  ou-iv0p-a9u7znp3   \nfreq                 1     240        257      66                66   \n\n       account_area account_type      orbit  \ncount           292          226        287  \nunique            4            3          2  \ntop             FPC      default  Non-Orbit  \nfreq            158          116        243  ",
      "text/html": "<div>\n<style scoped>\n    .dataframe tbody tr th:only-of-type {\n        vertical-align: middle;\n    }\n\n    .dataframe tbody tr th {\n        vertical-align: top;\n    }\n\n    .dataframe thead th {\n        text-align: right;\n    }\n</style>\n<table border=\"1\" class=\"dataframe\">\n  <thead>\n    <tr style=\"text-align: right;\">\n      <th></th>\n      <th>account_id</th>\n      <th>Status</th>\n      <th>fpc_status</th>\n      <th>ou_name</th>\n      <th>ou_id</th>\n      <th>account_area</th>\n      <th>account_type</th>\n      <th>orbit</th>\n    </tr>\n  </thead>\n  <tbody>\n    <tr>\n      <th>count</th>\n      <td>302</td>\n      <td>302</td>\n      <td>302</td>\n      <td>302</td>\n      <td>302</td>\n      <td>292</td>\n      <td>226</td>\n      <td>287</td>\n    </tr>\n    <tr>\n      <th>unique</th>\n      <td>302</td>\n      <td>2</td>\n      <td>3</td>\n      <td>10</td>\n      <td>10</td>\n      <td>4</td>\n      <td>3</td>\n      <td>2</td>\n    </tr>\n    <tr>\n      <th>top</th>\n      <td>'172688832633'</td>\n      <td>ACTIVE</td>\n      <td>enabled</td>\n      <td>Halt</td>\n      <td>ou-iv0p-a9u7znp3</td>\n      <td>FPC</td>\n      <td>default</td>\n      <td>Non-Orbit</td>\n    </tr>\n    <tr>\n      <th>freq</th>\n      <td>1</td>\n      <td>240</td>\n      <td>257</td>\n      <td>66</td>\n      <td>66</td>\n      <td>158</td>\n      <td>116</td>\n      <td>243</td>\n    </tr>\n  </tbody>\n</table>\n</div>"
     },
     "execution_count": 20,
     "metadata": {},
     "output_type": "execute_result"
    }
   ],
   "source": [
    "result.describe()    # 统计特征，均值方差等"
   ]
  },
  {
   "cell_type": "code",
   "execution_count": 21,
   "metadata": {},
   "outputs": [
    {
     "data": {
      "text/plain": "         account_id  Status fpc_status        ou_name             ou_id  \\\n0    '172688832633'  ACTIVE    enabled  CDH(Advanced)  ou-iv0p-ac92i7kp   \n1    '173679732911'  ACTIVE    enabled  CDH(Advanced)  ou-iv0p-ac92i7kp   \n2    '179158169094'  ACTIVE    enabled  CDH(Advanced)  ou-iv0p-ac92i7kp   \n3    '320707650407'  ACTIVE    enabled  CDH(Advanced)  ou-iv0p-ac92i7kp   \n4    '321176096694'  ACTIVE    enabled  CDH(Advanced)  ou-iv0p-ac92i7kp   \n..              ...     ...        ...            ...               ...   \n296  '424206487579'  ACTIVE    enabled     Operations  ou-iv0p-8htcpgwz   \n297  '424285566716'  ACTIVE    enabled     Operations  ou-iv0p-8htcpgwz   \n299  '183749528048'  ACTIVE    enabled   Architecting  ou-iv0p-9w0seqm8   \n300  '421807133856'  ACTIVE    enabled   Architecting  ou-iv0p-9w0seqm8   \n301  '430714857437'  ACTIVE    enabled   Architecting  ou-iv0p-9w0seqm8   \n\n     account_area account_type      orbit  \n0             CDH     advanced  Non-Orbit  \n1             CDH     advanced  Non-Orbit  \n2             CDH     advanced  Non-Orbit  \n3             CDH     advanced  Non-Orbit  \n4             CDH     advanced  Non-Orbit  \n..            ...          ...        ...  \n296  ShareService      default  Non-Orbit  \n297  ShareService      default  Non-Orbit  \n299  ShareService     davanced  Non-Orbit  \n300  ShareService     davanced  Non-Orbit  \n301  ShareService     davanced  Non-Orbit  \n\n[287 rows x 8 columns]",
      "text/html": "<div>\n<style scoped>\n    .dataframe tbody tr th:only-of-type {\n        vertical-align: middle;\n    }\n\n    .dataframe tbody tr th {\n        vertical-align: top;\n    }\n\n    .dataframe thead th {\n        text-align: right;\n    }\n</style>\n<table border=\"1\" class=\"dataframe\">\n  <thead>\n    <tr style=\"text-align: right;\">\n      <th></th>\n      <th>account_id</th>\n      <th>Status</th>\n      <th>fpc_status</th>\n      <th>ou_name</th>\n      <th>ou_id</th>\n      <th>account_area</th>\n      <th>account_type</th>\n      <th>orbit</th>\n    </tr>\n  </thead>\n  <tbody>\n    <tr>\n      <th>0</th>\n      <td>'172688832633'</td>\n      <td>ACTIVE</td>\n      <td>enabled</td>\n      <td>CDH(Advanced)</td>\n      <td>ou-iv0p-ac92i7kp</td>\n      <td>CDH</td>\n      <td>advanced</td>\n      <td>Non-Orbit</td>\n    </tr>\n    <tr>\n      <th>1</th>\n      <td>'173679732911'</td>\n      <td>ACTIVE</td>\n      <td>enabled</td>\n      <td>CDH(Advanced)</td>\n      <td>ou-iv0p-ac92i7kp</td>\n      <td>CDH</td>\n      <td>advanced</td>\n      <td>Non-Orbit</td>\n    </tr>\n    <tr>\n      <th>2</th>\n      <td>'179158169094'</td>\n      <td>ACTIVE</td>\n      <td>enabled</td>\n      <td>CDH(Advanced)</td>\n      <td>ou-iv0p-ac92i7kp</td>\n      <td>CDH</td>\n      <td>advanced</td>\n      <td>Non-Orbit</td>\n    </tr>\n    <tr>\n      <th>3</th>\n      <td>'320707650407'</td>\n      <td>ACTIVE</td>\n      <td>enabled</td>\n      <td>CDH(Advanced)</td>\n      <td>ou-iv0p-ac92i7kp</td>\n      <td>CDH</td>\n      <td>advanced</td>\n      <td>Non-Orbit</td>\n    </tr>\n    <tr>\n      <th>4</th>\n      <td>'321176096694'</td>\n      <td>ACTIVE</td>\n      <td>enabled</td>\n      <td>CDH(Advanced)</td>\n      <td>ou-iv0p-ac92i7kp</td>\n      <td>CDH</td>\n      <td>advanced</td>\n      <td>Non-Orbit</td>\n    </tr>\n    <tr>\n      <th>...</th>\n      <td>...</td>\n      <td>...</td>\n      <td>...</td>\n      <td>...</td>\n      <td>...</td>\n      <td>...</td>\n      <td>...</td>\n      <td>...</td>\n    </tr>\n    <tr>\n      <th>296</th>\n      <td>'424206487579'</td>\n      <td>ACTIVE</td>\n      <td>enabled</td>\n      <td>Operations</td>\n      <td>ou-iv0p-8htcpgwz</td>\n      <td>ShareService</td>\n      <td>default</td>\n      <td>Non-Orbit</td>\n    </tr>\n    <tr>\n      <th>297</th>\n      <td>'424285566716'</td>\n      <td>ACTIVE</td>\n      <td>enabled</td>\n      <td>Operations</td>\n      <td>ou-iv0p-8htcpgwz</td>\n      <td>ShareService</td>\n      <td>default</td>\n      <td>Non-Orbit</td>\n    </tr>\n    <tr>\n      <th>299</th>\n      <td>'183749528048'</td>\n      <td>ACTIVE</td>\n      <td>enabled</td>\n      <td>Architecting</td>\n      <td>ou-iv0p-9w0seqm8</td>\n      <td>ShareService</td>\n      <td>davanced</td>\n      <td>Non-Orbit</td>\n    </tr>\n    <tr>\n      <th>300</th>\n      <td>'421807133856'</td>\n      <td>ACTIVE</td>\n      <td>enabled</td>\n      <td>Architecting</td>\n      <td>ou-iv0p-9w0seqm8</td>\n      <td>ShareService</td>\n      <td>davanced</td>\n      <td>Non-Orbit</td>\n    </tr>\n    <tr>\n      <th>301</th>\n      <td>'430714857437'</td>\n      <td>ACTIVE</td>\n      <td>enabled</td>\n      <td>Architecting</td>\n      <td>ou-iv0p-9w0seqm8</td>\n      <td>ShareService</td>\n      <td>davanced</td>\n      <td>Non-Orbit</td>\n    </tr>\n  </tbody>\n</table>\n<p>287 rows × 8 columns</p>\n</div>"
     },
     "execution_count": 21,
     "metadata": {},
     "output_type": "execute_result"
    }
   ],
   "source": [
    "result = result.query(\"orbit.notnull() or orbit == 'xxx'\")\n",
    "result"
   ]
  },
  {
   "cell_type": "code",
   "execution_count": 22,
   "metadata": {},
   "outputs": [
    {
     "data": {
      "text/plain": "      Status    account_area  account_id  fpc_status  ou_name  ou_id  \\\n0     ACTIVE             CDH          11          11       11     11   \n1     ACTIVE  ConnectedDrive          98          98       98     98   \n2     ACTIVE             FPC         102         102      102    102   \n3     ACTIVE    ShareService          16          16       16     16   \n4  SUSPENDED             FPC          44          44       44     44   \n5  SUSPENDED    ShareService           6           6        6      6   \n\n   account_type  orbit  \n0            11     11  \n1            98     98  \n2            98    102  \n3            16     16  \n4             0     44  \n5             0      6  ",
      "text/html": "<div>\n<style scoped>\n    .dataframe tbody tr th:only-of-type {\n        vertical-align: middle;\n    }\n\n    .dataframe tbody tr th {\n        vertical-align: top;\n    }\n\n    .dataframe thead th {\n        text-align: right;\n    }\n</style>\n<table border=\"1\" class=\"dataframe\">\n  <thead>\n    <tr style=\"text-align: right;\">\n      <th></th>\n      <th>Status</th>\n      <th>account_area</th>\n      <th>account_id</th>\n      <th>fpc_status</th>\n      <th>ou_name</th>\n      <th>ou_id</th>\n      <th>account_type</th>\n      <th>orbit</th>\n    </tr>\n  </thead>\n  <tbody>\n    <tr>\n      <th>0</th>\n      <td>ACTIVE</td>\n      <td>CDH</td>\n      <td>11</td>\n      <td>11</td>\n      <td>11</td>\n      <td>11</td>\n      <td>11</td>\n      <td>11</td>\n    </tr>\n    <tr>\n      <th>1</th>\n      <td>ACTIVE</td>\n      <td>ConnectedDrive</td>\n      <td>98</td>\n      <td>98</td>\n      <td>98</td>\n      <td>98</td>\n      <td>98</td>\n      <td>98</td>\n    </tr>\n    <tr>\n      <th>2</th>\n      <td>ACTIVE</td>\n      <td>FPC</td>\n      <td>102</td>\n      <td>102</td>\n      <td>102</td>\n      <td>102</td>\n      <td>98</td>\n      <td>102</td>\n    </tr>\n    <tr>\n      <th>3</th>\n      <td>ACTIVE</td>\n      <td>ShareService</td>\n      <td>16</td>\n      <td>16</td>\n      <td>16</td>\n      <td>16</td>\n      <td>16</td>\n      <td>16</td>\n    </tr>\n    <tr>\n      <th>4</th>\n      <td>SUSPENDED</td>\n      <td>FPC</td>\n      <td>44</td>\n      <td>44</td>\n      <td>44</td>\n      <td>44</td>\n      <td>0</td>\n      <td>44</td>\n    </tr>\n    <tr>\n      <th>5</th>\n      <td>SUSPENDED</td>\n      <td>ShareService</td>\n      <td>6</td>\n      <td>6</td>\n      <td>6</td>\n      <td>6</td>\n      <td>0</td>\n      <td>6</td>\n    </tr>\n  </tbody>\n</table>\n</div>"
     },
     "execution_count": 22,
     "metadata": {},
     "output_type": "execute_result"
    }
   ],
   "source": [
    "\n",
    "group_result = result.groupby(['Status','account_area']).count().reset_index()\n",
    "group_result"
   ]
  },
  {
   "cell_type": "code",
   "execution_count": 23,
   "metadata": {},
   "outputs": [
    {
     "data": {
      "text/plain": "      Status    account_area  count_total\n0     ACTIVE             CDH           11\n1     ACTIVE  ConnectedDrive           98\n2     ACTIVE             FPC          102\n3     ACTIVE    ShareService           16\n4  SUSPENDED             FPC           44\n5  SUSPENDED    ShareService            6",
      "text/html": "<div>\n<style scoped>\n    .dataframe tbody tr th:only-of-type {\n        vertical-align: middle;\n    }\n\n    .dataframe tbody tr th {\n        vertical-align: top;\n    }\n\n    .dataframe thead th {\n        text-align: right;\n    }\n</style>\n<table border=\"1\" class=\"dataframe\">\n  <thead>\n    <tr style=\"text-align: right;\">\n      <th></th>\n      <th>Status</th>\n      <th>account_area</th>\n      <th>count_total</th>\n    </tr>\n  </thead>\n  <tbody>\n    <tr>\n      <th>0</th>\n      <td>ACTIVE</td>\n      <td>CDH</td>\n      <td>11</td>\n    </tr>\n    <tr>\n      <th>1</th>\n      <td>ACTIVE</td>\n      <td>ConnectedDrive</td>\n      <td>98</td>\n    </tr>\n    <tr>\n      <th>2</th>\n      <td>ACTIVE</td>\n      <td>FPC</td>\n      <td>102</td>\n    </tr>\n    <tr>\n      <th>3</th>\n      <td>ACTIVE</td>\n      <td>ShareService</td>\n      <td>16</td>\n    </tr>\n    <tr>\n      <th>4</th>\n      <td>SUSPENDED</td>\n      <td>FPC</td>\n      <td>44</td>\n    </tr>\n    <tr>\n      <th>5</th>\n      <td>SUSPENDED</td>\n      <td>ShareService</td>\n      <td>6</td>\n    </tr>\n  </tbody>\n</table>\n</div>"
     },
     "execution_count": 23,
     "metadata": {},
     "output_type": "execute_result"
    }
   ],
   "source": [
    "# head()方法，不指定行数，则默认显示5行，单列的类型是Series\n",
    "\n",
    "# [['account_id','x']] 过滤多个字段\n",
    "# group_result = result.groupby(by=['Status','account_area'])[['account_id']].agg([(\"count_total\",\"count\")]).reset_index()\n",
    "\n",
    "# ['account_id'] 过滤一个字段\n",
    "group_result = result.groupby(by=['Status','account_area'])['account_id'].agg([(\"count_total\",\"count\")]).reset_index()\n",
    "group_result"
   ]
  },
  {
   "cell_type": "code",
   "execution_count": 24,
   "metadata": {},
   "outputs": [
    {
     "name": "stdout",
     "output_type": "stream",
     "text": [
      "two_level_index_series: \n",
      "Status     account_area  \n",
      "ACTIVE     CDH                11\n",
      "           ConnectedDrive     98\n",
      "           FPC               102\n",
      "           ShareService       16\n",
      "SUSPENDED  FPC                44\n",
      "           ShareService        6\n",
      "Name: count_total, dtype: int64\n",
      "new_df: \n",
      "            CDH  ConnectedDrive    FPC  ShareService\n",
      "Status                                              \n",
      "ACTIVE     11.0            98.0  102.0          16.0\n",
      "SUSPENDED   NaN             NaN   44.0           6.0\n"
     ]
    },
    {
     "data": {
      "text/plain": "<Figure size 640x480 with 1 Axes>",
      "image/png": "[encoded data removed]"
     },
     "metadata": {},
     "output_type": "display_data"
    }
   ],
   "source": [
    "\n",
    "# 行转列 : https://www.cnblogs.com/ElonJiang/p/16486111.html\n",
    "# 将\"Status\"和\"account_area\"设置为索引, 然后取出\"count_total\"这一列, 得到对应的具有二级索引的 Series 对象\n",
    "two_level_index_series = group_result.set_index([\"Status\", \"account_area\"])[\"count_total\"]\n",
    "print(\"two_level_index_series: \")\n",
    "print(two_level_index_series)\n",
    "\n",
    "# 调用具有二级索引的Series的unstack, 会得到一个DataFrame\n",
    "# 并会自动把一级索引变成DataFrame的索引, 二级索引变成DataFrame的列\n",
    "new_df = two_level_index_series.unstack()\n",
    "\n",
    "# 可以通过 rename_axis(index=, columns=) 来给坐标轴重命名\n",
    "new_df = new_df.rename_axis(columns=None)\n",
    "print(\"new_df: \")\n",
    "print(new_df)\n",
    "\n",
    "# 这里我们只给列重命名, 没有给索引重命名, 至于原因请往下看\n",
    "new_df = new_df.reset_index()\n",
    "\n",
    "new_df.plot.bar(stacked=True,x='Status',y=['CDH','FPC','ShareService','ConnectedDrive'])\n",
    "plt.xlabel(\"Status\")\n",
    "plt.ylabel(\"total_count\")\n",
    "plt.show()\n"
   ]
  }
 ],
 "metadata": {
  "kernelspec": {
   "display_name": "Python 3 (ipykernel)",
   "language": "python",
   "name": "python3"
  },
  "language_info": {
   "codemirror_mode": {
    "name": "ipython",
    "version": 3
   },
   "file_extension": ".py",
   "mimetype": "text/x-python",
   "name": "python",
   "nbconvert_exporter": "python",
   "pygments_lexer": "ipython3",
   "version": "3.10.6"
  }
 },
 "nbformat": 4,
 "nbformat_minor": 1
}
